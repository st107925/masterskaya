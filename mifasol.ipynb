{
 "cells": [
  {
   "cell_type": "markdown",
   "id": "1053d8e0-a18d-42b8-aa40-3aa52bca0735",
   "metadata": {},
   "source": [
    "Краткое описание проекта: музыкальный стриминговый сервис \"МиФаСоль\" расширяет работу с новыми артистами и музыкантами, в связи с чем возникла задача: правильно классифицировать новые музыкальные треки, чтобы улучшить работу рекомендательной системы. В датасете собраны некоторые характеристики музыкальных произведений и их жанры. Задача - разработать модель, позволяющую классифицировать музыкальные произведения по жанрам."
   ]
  },
  {
   "cell_type": "markdown",
   "id": "6ae67841-4beb-4ba5-98e3-9c0e7e7906d3",
   "metadata": {},
   "source": [
    "Загрузка необходимых для работы библиотек:"
   ]
  },
  {
   "cell_type": "code",
   "execution_count": 1,
   "id": "e3bb43a9-4756-41ec-9f79-eabc0560461e",
   "metadata": {},
   "outputs": [],
   "source": [
    "import pandas as pd\n",
    "import numpy as np\n",
    "from sklearn.ensemble import RandomForestClassifier\n",
    "from sklearn.metrics import f1_score\n",
    "from sklearn.preprocessing import OneHotEncoder\n",
    "from sklearn.compose import make_column_transformer\n",
    "from sklearn.model_selection import train_test_split,GridSearchCV, cross_val_score, cross_val_predict\n",
    "import warnings\n",
    "from catboost import CatBoostClassifier\n",
    "import pandas as pd\n",
    "from sklearn.preprocessing import StandardScaler\n",
    "import matplotlib.pyplot as plt\n",
    "import phik\n",
    "from sklearn.decomposition import PCA\n",
    "from phik.report import plot_correlation_matrix\n",
    "from phik import report\n",
    "import seaborn as sns\n",
    "from sklearn.linear_model import LogisticRegression\n",
    "from sklearn.model_selection import cross_val_score\n",
    "from sklearn.preprocessing import StandardScaler, OneHotEncoder\n",
    "from sklearn.pipeline import Pipeline, make_pipeline\n",
    "from catboost import CatBoostClassifier\n",
    "from catboost import cv, Pool\n",
    "from sklearn.preprocessing import MinMaxScaler\n",
    "from sklearn.preprocessing import LabelEncoder"
   ]
  },
  {
   "cell_type": "markdown",
   "id": "6460976a-35b4-46a0-b89b-0806be6dde00",
   "metadata": {},
   "source": [
    "Загружаем тренировоный и тестовый датасеты."
   ]
  },
  {
   "cell_type": "code",
   "execution_count": 2,
   "id": "6188a11b-55d7-4fb9-8ef3-86829b3f7530",
   "metadata": {},
   "outputs": [],
   "source": [
    "data = pd.read_csv('kaggle_music_genre_train.csv')\n",
    "df_test = pd.read_csv('kaggle_music_genre_test.csv')"
   ]
  },
  {
   "cell_type": "markdown",
   "id": "e6a102c8-458a-47b8-a3b2-10922ddb980c",
   "metadata": {},
   "source": [
    "Пропуски есть в столцбах key, mode, tempo как в тренировочном, так и в тестовом датасетах. Категориальные признаки: track_name, key, mode, obtained_date."
   ]
  },
  {
   "cell_type": "code",
   "execution_count": 3,
   "id": "981b2305-3887-4e31-bc38-feb6cec4b581",
   "metadata": {},
   "outputs": [
    {
     "name": "stdout",
     "output_type": "stream",
     "text": [
      "<class 'pandas.core.frame.DataFrame'>\n",
      "RangeIndex: 20394 entries, 0 to 20393\n",
      "Data columns (total 16 columns):\n",
      " #   Column            Non-Null Count  Dtype  \n",
      "---  ------            --------------  -----  \n",
      " 0   instance_id       20394 non-null  float64\n",
      " 1   track_name        20394 non-null  object \n",
      " 2   acousticness      20394 non-null  float64\n",
      " 3   danceability      20394 non-null  float64\n",
      " 4   duration_ms       20394 non-null  float64\n",
      " 5   energy            20394 non-null  float64\n",
      " 6   instrumentalness  20394 non-null  float64\n",
      " 7   key               19659 non-null  object \n",
      " 8   liveness          20394 non-null  float64\n",
      " 9   loudness          20394 non-null  float64\n",
      " 10  mode              19888 non-null  object \n",
      " 11  speechiness       20394 non-null  float64\n",
      " 12  tempo             19952 non-null  float64\n",
      " 13  obtained_date     20394 non-null  object \n",
      " 14  valence           20394 non-null  float64\n",
      " 15  music_genre       20394 non-null  object \n",
      "dtypes: float64(11), object(5)\n",
      "memory usage: 2.5+ MB\n",
      "<class 'pandas.core.frame.DataFrame'>\n",
      "RangeIndex: 5099 entries, 0 to 5098\n",
      "Data columns (total 15 columns):\n",
      " #   Column            Non-Null Count  Dtype  \n",
      "---  ------            --------------  -----  \n",
      " 0   instance_id       5099 non-null   int64  \n",
      " 1   track_name        5099 non-null   object \n",
      " 2   acousticness      5099 non-null   float64\n",
      " 3   danceability      5099 non-null   float64\n",
      " 4   duration_ms       5099 non-null   float64\n",
      " 5   energy            5099 non-null   float64\n",
      " 6   instrumentalness  5099 non-null   float64\n",
      " 7   key               4941 non-null   object \n",
      " 8   liveness          5099 non-null   float64\n",
      " 9   loudness          5099 non-null   float64\n",
      " 10  mode              4950 non-null   object \n",
      " 11  speechiness       5099 non-null   float64\n",
      " 12  tempo             4978 non-null   float64\n",
      " 13  obtained_date     5099 non-null   object \n",
      " 14  valence           5099 non-null   float64\n",
      "dtypes: float64(10), int64(1), object(4)\n",
      "memory usage: 597.7+ KB\n",
      "None None\n"
     ]
    }
   ],
   "source": [
    "print(data.info(), df_test.info())"
   ]
  },
  {
   "cell_type": "raw",
   "id": "fdb100ee-8a8c-41e1-9cd6-2f52fab85aa6",
   "metadata": {},
   "source": [
    "Предобработка данных"
   ]
  },
  {
   "cell_type": "markdown",
   "id": "e3527e20-43ca-42b3-92c8-a34bf491c0a1",
   "metadata": {},
   "source": [
    "Признак instance_id смысловой нагрузки не несет, поэтому удалим его, также сделаем и с track_name "
   ]
  },
  {
   "cell_type": "code",
   "execution_count": 4,
   "id": "0c32e265-f363-4eb0-aec4-f30e51d81233",
   "metadata": {},
   "outputs": [],
   "source": [
    "data = data.drop('instance_id' , axis = 1)\n",
    "df_id = df_test['instance_id']\n",
    "df_test = df_test.drop('instance_id', axis = 1)"
   ]
  },
  {
   "cell_type": "code",
   "execution_count": 5,
   "id": "76dc3dea-e92d-4bea-afd6-7f6eb9a6a16d",
   "metadata": {},
   "outputs": [],
   "source": [
    "data = data.drop('track_name' , axis = 1)\n",
    "df_test = df_test.drop('track_name', axis = 1)"
   ]
  },
  {
   "cell_type": "markdown",
   "id": "6fcb92a3-731d-4515-bba2-fd82a19dcaa5",
   "metadata": {},
   "source": [
    "Преобразуем признак obtained_date в числовой признак"
   ]
  },
  {
   "cell_type": "code",
   "execution_count": 6,
   "id": "5a59e857-5a56-4112-87da-5410ff08c43e",
   "metadata": {},
   "outputs": [],
   "source": [
    "data['obtained_date'] = data['obtained_date'].str[:1].astype('int')\n",
    "df_test['obtained_date'] = df_test['obtained_date'].str[:1].astype('int')"
   ]
  },
  {
   "cell_type": "markdown",
   "id": "e359b589-6f53-4b05-9241-352b05104a82",
   "metadata": {},
   "source": [
    "Исследуем числовые признаки тренировочного набора данных на наличие выбросов и аномальных значений."
   ]
  },
  {
   "cell_type": "code",
   "execution_count": 7,
   "id": "c55a2169-c9c1-4193-a2df-05abbd5937c2",
   "metadata": {},
   "outputs": [
    {
     "data": {
      "image/png": "[encoded data removed]",
      "text/plain": [
       "<Figure size 640x480 with 1 Axes>"
      ]
     },
     "metadata": {},
     "output_type": "display_data"
    }
   ],
   "source": [
    "data.boxplot(column = 'acousticness')\n",
    "plt.show()"
   ]
  },
  {
   "cell_type": "code",
   "execution_count": 8,
   "id": "a46dbe93-877d-4ef9-948d-73ed5a67efe4",
   "metadata": {},
   "outputs": [
    {
     "data": {
      "image/png": "[encoded data removed]",
      "text/plain": [
       "<Figure size 640x480 with 1 Axes>"
      ]
     },
     "metadata": {},
     "output_type": "display_data"
    }
   ],
   "source": [
    "data.boxplot(column = 'danceability')\n",
    "plt.show()"
   ]
  },
  {
   "cell_type": "markdown",
   "id": "669f13b5-9436-4c16-a8a1-7a2c7f95c6e5",
   "metadata": {},
   "source": [
    "Очевидно, что длительность песни, превышающая 25 минут - аномалия."
   ]
  },
  {
   "cell_type": "code",
   "execution_count": 9,
   "id": "b2fc6121-ce22-4ab5-9e09-552c9262f73a",
   "metadata": {},
   "outputs": [
    {
     "data": {
      "image/png": "[encoded data removed]",
      "text/plain": [
       "<Figure size 640x480 with 1 Axes>"
      ]
     },
     "metadata": {},
     "output_type": "display_data"
    },
    {
     "name": "stdout",
     "output_type": "stream",
     "text": [
      "8\n"
     ]
    }
   ],
   "source": [
    "data.boxplot(column = 'duration_ms')\n",
    "plt.show()\n",
    "print(data[data['duration_ms']>1.5*(10**6)]['duration_ms'].count())"
   ]
  },
  {
   "cell_type": "code",
   "execution_count": 10,
   "id": "e10049d8-c71b-4dbf-af5e-929e5f1d2f0e",
   "metadata": {},
   "outputs": [
    {
     "data": {
      "image/png": "[encoded data removed]",
      "text/plain": [
       "<Figure size 640x480 with 1 Axes>"
      ]
     },
     "metadata": {},
     "output_type": "display_data"
    }
   ],
   "source": [
    "data.boxplot(column = 'energy')\n",
    "plt.show()"
   ]
  },
  {
   "cell_type": "code",
   "execution_count": 11,
   "id": "eb2fec6d-6c78-4952-a7d9-fba91d97a601",
   "metadata": {},
   "outputs": [
    {
     "data": {
      "image/png": "[encoded data removed]",
      "text/plain": [
       "<Figure size 640x480 with 1 Axes>"
      ]
     },
     "metadata": {},
     "output_type": "display_data"
    }
   ],
   "source": [
    "data.boxplot(column = 'instrumentalness')\n",
    "plt.show()"
   ]
  },
  {
   "cell_type": "code",
   "execution_count": 12,
   "id": "0b7d54e9-7b23-4caa-a909-709576f5a8ba",
   "metadata": {},
   "outputs": [
    {
     "data": {
      "image/png": "[encoded data removed]",
      "text/plain": [
       "<Figure size 640x480 with 1 Axes>"
      ]
     },
     "metadata": {},
     "output_type": "display_data"
    }
   ],
   "source": [
    "data.boxplot(column = 'valence')\n",
    "plt.show()"
   ]
  },
  {
   "cell_type": "markdown",
   "id": "8038c99d-7b3e-43a3-89ff-416d697ca981",
   "metadata": {},
   "source": [
    "Удалим значения в столбце tempo > 205, их всего 37, можно это себе позволить, несмотря на небольшой тренировочный датасет."
   ]
  },
  {
   "cell_type": "code",
   "execution_count": 13,
   "id": "0b3cc06c-2717-40c6-8ab0-4c8af08e5db1",
   "metadata": {},
   "outputs": [
    {
     "data": {
      "image/png": "[encoded data removed]",
      "text/plain": [
       "<Figure size 640x480 with 1 Axes>"
      ]
     },
     "metadata": {},
     "output_type": "display_data"
    },
    {
     "data": {
      "text/plain": [
       "37"
      ]
     },
     "execution_count": 13,
     "metadata": {},
     "output_type": "execute_result"
    }
   ],
   "source": [
    "data.boxplot(column = 'tempo')\n",
    "plt.show()\n",
    "data[data['tempo']>205]['tempo'].count()"
   ]
  },
  {
   "cell_type": "code",
   "execution_count": 14,
   "id": "d4435212-f0e2-4294-858c-f869c4c72757",
   "metadata": {},
   "outputs": [
    {
     "data": {
      "image/png": "[encoded data removed]",
      "text/plain": [
       "<Figure size 640x480 with 1 Axes>"
      ]
     },
     "metadata": {},
     "output_type": "display_data"
    }
   ],
   "source": [
    "data.boxplot(column = 'liveness')\n",
    "plt.show()"
   ]
  },
  {
   "cell_type": "markdown",
   "id": "e5b76f5b-ab1b-4908-a0ef-fe3503b21267",
   "metadata": {},
   "source": [
    "Очевидно, что значения в столбце loudness должны быть положительными"
   ]
  },
  {
   "cell_type": "code",
   "execution_count": 15,
   "id": "08127dc4-34d2-4a78-841c-1b998e4d1e30",
   "metadata": {},
   "outputs": [
    {
     "data": {
      "image/png": "[encoded data removed]",
      "text/plain": [
       "<Figure size 640x480 with 1 Axes>"
      ]
     },
     "metadata": {},
     "output_type": "display_data"
    }
   ],
   "source": [
    "data.boxplot(column = 'loudness')\n",
    "plt.show()"
   ]
  },
  {
   "cell_type": "code",
   "execution_count": 16,
   "id": "c005cf33-8b38-41e5-b142-62c129c73b65",
   "metadata": {},
   "outputs": [
    {
     "data": {
      "image/png": "[encoded data removed]",
      "text/plain": [
       "<Figure size 640x480 with 1 Axes>"
      ]
     },
     "metadata": {},
     "output_type": "display_data"
    }
   ],
   "source": [
    "data.boxplot(column = 'speechiness')\n",
    "plt.show()"
   ]
  },
  {
   "cell_type": "markdown",
   "id": "036ea34b-a896-4e5b-8710-b8e90f70a79c",
   "metadata": {},
   "source": [
    "На основе обнаруженных выше аномалиях, напишем три функции для обработки данных в столбцах tempo, durations_ms, loudness. Все аномальные значения и выбросы заполним медианой."
   ]
  },
  {
   "cell_type": "code",
   "execution_count": 17,
   "id": "4d3bbd75-c08c-4016-9999-24b312ffb725",
   "metadata": {},
   "outputs": [],
   "source": [
    "def tempo(df):\n",
    "    df['tempo'] = df['tempo'].fillna(df['tempo'].mean())\n",
    "    for i in data[data['tempo']>205]['tempo'].index:\n",
    "        df['tempo'][i] = df['tempo'].mean()\n",
    "    return df\n",
    "def duration_ms(df):\n",
    "    df['duration_ms'] = df['duration_ms'].fillna(df['duration_ms'].mean())\n",
    "    for i in data[data['duration_ms']<60000]['duration_ms'].index:\n",
    "        df['duration_ms'][i] = df['duration_ms'].mean()\n",
    "    for i in data[data['duration_ms']>1.5*(10**6)]['duration_ms'].index:\n",
    "        df['duration_ms'][i] = df['duration_ms'].mean()\n",
    "    return df\n",
    "def loudness(df):\n",
    "    df['loudness'] = df['loudness'].fillna(df['loudness'].mean())\n",
    "    df['loudness'] = abs(df['loudness'])\n",
    "    return df"
   ]
  },
  {
   "cell_type": "markdown",
   "id": "2543da76-787d-4070-93ce-b5b700985314",
   "metadata": {},
   "source": [
    "Тк mode == major встречается встречается в 1.8 раза чаще, чем minor, заполним пропуски в столбце mode значением Major."
   ]
  },
  {
   "cell_type": "code",
   "execution_count": 18,
   "id": "734a7089-d0c7-4447-88a9-5e00370a97a6",
   "metadata": {},
   "outputs": [
    {
     "data": {
      "text/plain": [
       "mode\n",
       "Major    12828\n",
       "Minor     7060\n",
       "Name: music_genre, dtype: int64"
      ]
     },
     "execution_count": 18,
     "metadata": {},
     "output_type": "execute_result"
    }
   ],
   "source": [
    "data.groupby(by = 'mode')['music_genre'].count()"
   ]
  },
  {
   "cell_type": "code",
   "execution_count": 19,
   "id": "d8ec3861-b4a6-4455-a996-9dabde119975",
   "metadata": {},
   "outputs": [],
   "source": [
    "data['mode'] = data['mode'].fillna('Major')\n"
   ]
  },
  {
   "cell_type": "markdown",
   "id": "65bce9eb-80f5-4503-a499-05eebb473fa6",
   "metadata": {},
   "source": [
    "Применим описанные выше функции к тренировочным данным"
   ]
  },
  {
   "cell_type": "code",
   "execution_count": 21,
   "id": "e098b56a-39ea-4413-a06a-b497cefc3b46",
   "metadata": {},
   "outputs": [],
   "source": [
    "warnings.filterwarnings('ignore')\n",
    "data = tempo(data)\n",
    "data = duration_ms(data)\n",
    "data = loudness(data)\n",
    "df_test['key'] = df_test['key'].fillna(1)\n",
    "df_test['mode'] = df_test['mode'].fillna('Major')\n",
    "df_test = tempo(df_test)\n",
    "df_test = duration_ms(df_test)\n",
    "df_test = loudness(df_test)"
   ]
  },
  {
   "cell_type": "markdown",
   "id": "4305827f-7c8b-417f-8706-191e67a6ad6a",
   "metadata": {},
   "source": [
    "Так как наиболее часто встречаются классы d и b, заполнить все пропуски одним из них не получится, поэтому оставшиеся пропуски просто удалим."
   ]
  },
  {
   "cell_type": "code",
   "execution_count": 22,
   "id": "c3175c1a-df40-4a3e-81bf-fc0515a00135",
   "metadata": {},
   "outputs": [
    {
     "data": {
      "image/png": "[encoded data removed]",
      "text/plain": [
       "<Figure size 640x480 with 1 Axes>"
      ]
     },
     "metadata": {},
     "output_type": "display_data"
    }
   ],
   "source": [
    "data['key'].hist()\n",
    "plt.show()"
   ]
  },
  {
   "cell_type": "code",
   "execution_count": 23,
   "id": "5dd031c0-0641-4dc2-8379-9387340f24d6",
   "metadata": {},
   "outputs": [],
   "source": [
    "data = data.dropna()"
   ]
  },
  {
   "cell_type": "markdown",
   "id": "9a21d7ee-8810-4af1-a3b1-9916919b348d",
   "metadata": {},
   "source": [
    "Целевой признак сбалансирован"
   ]
  },
  {
   "cell_type": "code",
   "execution_count": 24,
   "id": "7d408384-2ebc-4536-922f-e2ef4af5b336",
   "metadata": {},
   "outputs": [
    {
     "data": {
      "image/png": "[encoded data removed]",
      "text/plain": [
       "<Figure size 640x480 with 1 Axes>"
      ]
     },
     "metadata": {},
     "output_type": "display_data"
    }
   ],
   "source": [
    "data['music_genre'].hist()\n",
    "plt.show()"
   ]
  },
  {
   "cell_type": "markdown",
   "id": "20e314df-f41b-4502-ac2e-bc2441ceda92",
   "metadata": {},
   "source": [
    "Посмотрим на то, как признаки коррелируют друг с другом"
   ]
  },
  {
   "cell_type": "markdown",
   "id": "3e14617b-398b-42d9-ad67-5139b6cba958",
   "metadata": {},
   "source": [
    "phik_overview = data.phik_matrix()\n",
    "phik_overview.round(2)\n",
    "\n",
    "plot_correlation_matrix(phik_overview.values, \n",
    "                        x_labels=phik_overview.columns, \n",
    "                        y_labels=phik_overview.index, \n",
    "                        vmin=0, vmax=1, color_map=\"Greens\", \n",
    "                        title=r\"correlation $\\phi_K$\", \n",
    "                        fontsize_factor=1.5, \n",
    "                        figsize=(12, 10))\n",
    "plt.tight_layout()\n",
    "plt.show()"
   ]
  },
  {
   "cell_type": "markdown",
   "id": "5176152d-173d-4f23-aadb-3be5ece28fa7",
   "metadata": {},
   "source": [
    "Сильно друг с другом коррелируют energy  и loudness, что впрочем логично. \n",
    "Удаление одного из них ухудшает метрику модели."
   ]
  },
  {
   "cell_type": "raw",
   "id": "98547406-4c14-41cf-b828-6e528074836d",
   "metadata": {},
   "source": [
    "Поиск лучшей модели"
   ]
  },
  {
   "cell_type": "markdown",
   "id": "59a08164-049b-4bdb-bd0d-a30e21c741b2",
   "metadata": {},
   "source": [
    "Обрабатываем данные для логистической регрессии"
   ]
  },
  {
   "cell_type": "code",
   "execution_count": 25,
   "id": "ad0ed3dd-9258-470f-81ac-db53bf64950e",
   "metadata": {},
   "outputs": [],
   "source": [
    "df_log = data.copy()\n",
    "df_test_log = df_test.copy()"
   ]
  },
  {
   "cell_type": "markdown",
   "id": "a06f9e98-ae2e-45d7-8f82-62c9b54b06ad",
   "metadata": {},
   "source": [
    "Отделим целевой признак"
   ]
  },
  {
   "cell_type": "code",
   "execution_count": 26,
   "id": "c0da30e8-8054-48f0-b6fe-0885518b7331",
   "metadata": {},
   "outputs": [],
   "source": [
    "X = df_log.drop('music_genre', axis = 1)\n",
    "Y = df_log['music_genre']"
   ]
  },
  {
   "cell_type": "code",
   "execution_count": 27,
   "id": "4abf4a44-9a8a-490e-9123-feab599265b9",
   "metadata": {},
   "outputs": [],
   "source": [
    "num_columns = X.select_dtypes(include='number').columns.tolist()\n",
    "cat_columns = X.select_dtypes(exclude='number').columns.tolist()"
   ]
  },
  {
   "cell_type": "code",
   "execution_count": 28,
   "id": "2cd6f047-7386-488f-bac7-975d5e83c700",
   "metadata": {},
   "outputs": [],
   "source": [
    "column_transformer = make_column_transformer((MinMaxScaler(), num_columns),\n",
    "                                             (OneHotEncoder(drop='first'), cat_columns),\n",
    "                                              remainder='passthrough')  \n",
    "model = LogisticRegression(random_state=42)\n",
    "log = make_pipeline(column_transformer, model)"
   ]
  },
  {
   "cell_type": "code",
   "execution_count": 29,
   "id": "6c1864eb-23a4-4c6e-8ae5-8724006ecd1b",
   "metadata": {},
   "outputs": [],
   "source": [
    "x_train, x_test, y_train, y_test = train_test_split(X, Y, test_size=0.2, random_state = 12345, stratify=Y)"
   ]
  },
  {
   "cell_type": "code",
   "execution_count": 30,
   "id": "86c5ed58-5cfa-4527-96c7-36fb122727de",
   "metadata": {},
   "outputs": [
    {
     "data": {
      "text/html": [
       "<style>#sk-container-id-1 {color: black;}#sk-container-id-1 pre{padding: 0;}#sk-container-id-1 div.sk-toggleable {background-color: white;}#sk-container-id-1 label.sk-toggleable__label {cursor: pointer;display: block;width: 100%;margin-bottom: 0;padding: 0.3em;box-sizing: border-box;text-align: center;}#sk-container-id-1 label.sk-toggleable__label-arrow:before {content: \"▸\";float: left;margin-right: 0.25em;color: #696969;}#sk-container-id-1 label.sk-toggleable__label-arrow:hover:before {color: black;}#sk-container-id-1 div.sk-estimator:hover label.sk-toggleable__label-arrow:before {color: black;}#sk-container-id-1 div.sk-toggleable__content {max-height: 0;max-width: 0;overflow: hidden;text-align: left;background-color: #f0f8ff;}#sk-container-id-1 div.sk-toggleable__content pre {margin: 0.2em;color: black;border-radius: 0.25em;background-color: #f0f8ff;}#sk-container-id-1 input.sk-toggleable__control:checked~div.sk-toggleable__content {max-height: 200px;max-width: 100%;overflow: auto;}#sk-container-id-1 input.sk-toggleable__control:checked~label.sk-toggleable__label-arrow:before {content: \"▾\";}#sk-container-id-1 div.sk-estimator input.sk-toggleable__control:checked~label.sk-toggleable__label {background-color: #d4ebff;}#sk-container-id-1 div.sk-label input.sk-toggleable__control:checked~label.sk-toggleable__label {background-color: #d4ebff;}#sk-container-id-1 input.sk-hidden--visually {border: 0;clip: rect(1px 1px 1px 1px);clip: rect(1px, 1px, 1px, 1px);height: 1px;margin: -1px;overflow: hidden;padding: 0;position: absolute;width: 1px;}#sk-container-id-1 div.sk-estimator {font-family: monospace;background-color: #f0f8ff;border: 1px dotted black;border-radius: 0.25em;box-sizing: border-box;margin-bottom: 0.5em;}#sk-container-id-1 div.sk-estimator:hover {background-color: #d4ebff;}#sk-container-id-1 div.sk-parallel-item::after {content: \"\";width: 100%;border-bottom: 1px solid gray;flex-grow: 1;}#sk-container-id-1 div.sk-label:hover label.sk-toggleable__label {background-color: #d4ebff;}#sk-container-id-1 div.sk-serial::before {content: \"\";position: absolute;border-left: 1px solid gray;box-sizing: border-box;top: 0;bottom: 0;left: 50%;z-index: 0;}#sk-container-id-1 div.sk-serial {display: flex;flex-direction: column;align-items: center;background-color: white;padding-right: 0.2em;padding-left: 0.2em;position: relative;}#sk-container-id-1 div.sk-item {position: relative;z-index: 1;}#sk-container-id-1 div.sk-parallel {display: flex;align-items: stretch;justify-content: center;background-color: white;position: relative;}#sk-container-id-1 div.sk-item::before, #sk-container-id-1 div.sk-parallel-item::before {content: \"\";position: absolute;border-left: 1px solid gray;box-sizing: border-box;top: 0;bottom: 0;left: 50%;z-index: -1;}#sk-container-id-1 div.sk-parallel-item {display: flex;flex-direction: column;z-index: 1;position: relative;background-color: white;}#sk-container-id-1 div.sk-parallel-item:first-child::after {align-self: flex-end;width: 50%;}#sk-container-id-1 div.sk-parallel-item:last-child::after {align-self: flex-start;width: 50%;}#sk-container-id-1 div.sk-parallel-item:only-child::after {width: 0;}#sk-container-id-1 div.sk-dashed-wrapped {border: 1px dashed gray;margin: 0 0.4em 0.5em 0.4em;box-sizing: border-box;padding-bottom: 0.4em;background-color: white;}#sk-container-id-1 div.sk-label label {font-family: monospace;font-weight: bold;display: inline-block;line-height: 1.2em;}#sk-container-id-1 div.sk-label-container {text-align: center;}#sk-container-id-1 div.sk-container {/* jupyter's `normalize.less` sets `[hidden] { display: none; }` but bootstrap.min.css set `[hidden] { display: none !important; }` so we also need the `!important` here to be able to override the default hidden behavior on the sphinx rendered scikit-learn.org. See: https://github.com/scikit-learn/scikit-learn/issues/21755 */display: inline-block !important;position: relative;}#sk-container-id-1 div.sk-text-repr-fallback {display: none;}</style><div id=\"sk-container-id-1\" class=\"sk-top-container\"><div class=\"sk-text-repr-fallback\"><pre>GridSearchCV(cv=5,\n",
       "             estimator=Pipeline(steps=[(&#x27;columntransformer&#x27;,\n",
       "                                        ColumnTransformer(remainder=&#x27;passthrough&#x27;,\n",
       "                                                          transformers=[(&#x27;minmaxscaler&#x27;,\n",
       "                                                                         MinMaxScaler(),\n",
       "                                                                         [&#x27;acousticness&#x27;,\n",
       "                                                                          &#x27;danceability&#x27;,\n",
       "                                                                          &#x27;duration_ms&#x27;,\n",
       "                                                                          &#x27;energy&#x27;,\n",
       "                                                                          &#x27;instrumentalness&#x27;,\n",
       "                                                                          &#x27;liveness&#x27;,\n",
       "                                                                          &#x27;loudness&#x27;,\n",
       "                                                                          &#x27;speechiness&#x27;,\n",
       "                                                                          &#x27;tempo&#x27;,\n",
       "                                                                          &#x27;obtained_date&#x27;,\n",
       "                                                                          &#x27;valence&#x27;]),\n",
       "                                                                        (&#x27;onehotencoder&#x27;,\n",
       "                                                                         OneHotEncoder(drop=&#x27;first&#x27;),\n",
       "                                                                         [&#x27;key&#x27;,\n",
       "                                                                          &#x27;mode&#x27;])])),\n",
       "                                       (&#x27;logisticregression&#x27;,\n",
       "                                        LogisticRegression(random_state=42))]),\n",
       "             param_grid={&#x27;logisticregression__max_iter&#x27;: range(600, 1001, 100),\n",
       "                         &#x27;logisticregression__n_jobs&#x27;: range(1, 4)},\n",
       "             scoring=&#x27;f1_micro&#x27;)</pre><b>In a Jupyter environment, please rerun this cell to show the HTML representation or trust the notebook. <br />On GitHub, the HTML representation is unable to render, please try loading this page with nbviewer.org.</b></div><div class=\"sk-container\" hidden><div class=\"sk-item sk-dashed-wrapped\"><div class=\"sk-label-container\"><div class=\"sk-label sk-toggleable\"><input class=\"sk-toggleable__control sk-hidden--visually\" id=\"sk-estimator-id-1\" type=\"checkbox\" ><label for=\"sk-estimator-id-1\" class=\"sk-toggleable__label sk-toggleable__label-arrow\">GridSearchCV</label><div class=\"sk-toggleable__content\"><pre>GridSearchCV(cv=5,\n",
       "             estimator=Pipeline(steps=[(&#x27;columntransformer&#x27;,\n",
       "                                        ColumnTransformer(remainder=&#x27;passthrough&#x27;,\n",
       "                                                          transformers=[(&#x27;minmaxscaler&#x27;,\n",
       "                                                                         MinMaxScaler(),\n",
       "                                                                         [&#x27;acousticness&#x27;,\n",
       "                                                                          &#x27;danceability&#x27;,\n",
       "                                                                          &#x27;duration_ms&#x27;,\n",
       "                                                                          &#x27;energy&#x27;,\n",
       "                                                                          &#x27;instrumentalness&#x27;,\n",
       "                                                                          &#x27;liveness&#x27;,\n",
       "                                                                          &#x27;loudness&#x27;,\n",
       "                                                                          &#x27;speechiness&#x27;,\n",
       "                                                                          &#x27;tempo&#x27;,\n",
       "                                                                          &#x27;obtained_date&#x27;,\n",
       "                                                                          &#x27;valence&#x27;]),\n",
       "                                                                        (&#x27;onehotencoder&#x27;,\n",
       "                                                                         OneHotEncoder(drop=&#x27;first&#x27;),\n",
       "                                                                         [&#x27;key&#x27;,\n",
       "                                                                          &#x27;mode&#x27;])])),\n",
       "                                       (&#x27;logisticregression&#x27;,\n",
       "                                        LogisticRegression(random_state=42))]),\n",
       "             param_grid={&#x27;logisticregression__max_iter&#x27;: range(600, 1001, 100),\n",
       "                         &#x27;logisticregression__n_jobs&#x27;: range(1, 4)},\n",
       "             scoring=&#x27;f1_micro&#x27;)</pre></div></div></div><div class=\"sk-parallel\"><div class=\"sk-parallel-item\"><div class=\"sk-item\"><div class=\"sk-label-container\"><div class=\"sk-label sk-toggleable\"><input class=\"sk-toggleable__control sk-hidden--visually\" id=\"sk-estimator-id-2\" type=\"checkbox\" ><label for=\"sk-estimator-id-2\" class=\"sk-toggleable__label sk-toggleable__label-arrow\">estimator: Pipeline</label><div class=\"sk-toggleable__content\"><pre>Pipeline(steps=[(&#x27;columntransformer&#x27;,\n",
       "                 ColumnTransformer(remainder=&#x27;passthrough&#x27;,\n",
       "                                   transformers=[(&#x27;minmaxscaler&#x27;,\n",
       "                                                  MinMaxScaler(),\n",
       "                                                  [&#x27;acousticness&#x27;,\n",
       "                                                   &#x27;danceability&#x27;,\n",
       "                                                   &#x27;duration_ms&#x27;, &#x27;energy&#x27;,\n",
       "                                                   &#x27;instrumentalness&#x27;,\n",
       "                                                   &#x27;liveness&#x27;, &#x27;loudness&#x27;,\n",
       "                                                   &#x27;speechiness&#x27;, &#x27;tempo&#x27;,\n",
       "                                                   &#x27;obtained_date&#x27;,\n",
       "                                                   &#x27;valence&#x27;]),\n",
       "                                                 (&#x27;onehotencoder&#x27;,\n",
       "                                                  OneHotEncoder(drop=&#x27;first&#x27;),\n",
       "                                                  [&#x27;key&#x27;, &#x27;mode&#x27;])])),\n",
       "                (&#x27;logisticregression&#x27;, LogisticRegression(random_state=42))])</pre></div></div></div><div class=\"sk-serial\"><div class=\"sk-item\"><div class=\"sk-serial\"><div class=\"sk-item sk-dashed-wrapped\"><div class=\"sk-label-container\"><div class=\"sk-label sk-toggleable\"><input class=\"sk-toggleable__control sk-hidden--visually\" id=\"sk-estimator-id-3\" type=\"checkbox\" ><label for=\"sk-estimator-id-3\" class=\"sk-toggleable__label sk-toggleable__label-arrow\">columntransformer: ColumnTransformer</label><div class=\"sk-toggleable__content\"><pre>ColumnTransformer(remainder=&#x27;passthrough&#x27;,\n",
       "                  transformers=[(&#x27;minmaxscaler&#x27;, MinMaxScaler(),\n",
       "                                 [&#x27;acousticness&#x27;, &#x27;danceability&#x27;, &#x27;duration_ms&#x27;,\n",
       "                                  &#x27;energy&#x27;, &#x27;instrumentalness&#x27;, &#x27;liveness&#x27;,\n",
       "                                  &#x27;loudness&#x27;, &#x27;speechiness&#x27;, &#x27;tempo&#x27;,\n",
       "                                  &#x27;obtained_date&#x27;, &#x27;valence&#x27;]),\n",
       "                                (&#x27;onehotencoder&#x27;, OneHotEncoder(drop=&#x27;first&#x27;),\n",
       "                                 [&#x27;key&#x27;, &#x27;mode&#x27;])])</pre></div></div></div><div class=\"sk-parallel\"><div class=\"sk-parallel-item\"><div class=\"sk-item\"><div class=\"sk-label-container\"><div class=\"sk-label sk-toggleable\"><input class=\"sk-toggleable__control sk-hidden--visually\" id=\"sk-estimator-id-4\" type=\"checkbox\" ><label for=\"sk-estimator-id-4\" class=\"sk-toggleable__label sk-toggleable__label-arrow\">minmaxscaler</label><div class=\"sk-toggleable__content\"><pre>[&#x27;acousticness&#x27;, &#x27;danceability&#x27;, &#x27;duration_ms&#x27;, &#x27;energy&#x27;, &#x27;instrumentalness&#x27;, &#x27;liveness&#x27;, &#x27;loudness&#x27;, &#x27;speechiness&#x27;, &#x27;tempo&#x27;, &#x27;obtained_date&#x27;, &#x27;valence&#x27;]</pre></div></div></div><div class=\"sk-serial\"><div class=\"sk-item\"><div class=\"sk-estimator sk-toggleable\"><input class=\"sk-toggleable__control sk-hidden--visually\" id=\"sk-estimator-id-5\" type=\"checkbox\" ><label for=\"sk-estimator-id-5\" class=\"sk-toggleable__label sk-toggleable__label-arrow\">MinMaxScaler</label><div class=\"sk-toggleable__content\"><pre>MinMaxScaler()</pre></div></div></div></div></div></div><div class=\"sk-parallel-item\"><div class=\"sk-item\"><div class=\"sk-label-container\"><div class=\"sk-label sk-toggleable\"><input class=\"sk-toggleable__control sk-hidden--visually\" id=\"sk-estimator-id-6\" type=\"checkbox\" ><label for=\"sk-estimator-id-6\" class=\"sk-toggleable__label sk-toggleable__label-arrow\">onehotencoder</label><div class=\"sk-toggleable__content\"><pre>[&#x27;key&#x27;, &#x27;mode&#x27;]</pre></div></div></div><div class=\"sk-serial\"><div class=\"sk-item\"><div class=\"sk-estimator sk-toggleable\"><input class=\"sk-toggleable__control sk-hidden--visually\" id=\"sk-estimator-id-7\" type=\"checkbox\" ><label for=\"sk-estimator-id-7\" class=\"sk-toggleable__label sk-toggleable__label-arrow\">OneHotEncoder</label><div class=\"sk-toggleable__content\"><pre>OneHotEncoder(drop=&#x27;first&#x27;)</pre></div></div></div></div></div></div><div class=\"sk-parallel-item\"><div class=\"sk-item\"><div class=\"sk-label-container\"><div class=\"sk-label sk-toggleable\"><input class=\"sk-toggleable__control sk-hidden--visually\" id=\"sk-estimator-id-8\" type=\"checkbox\" ><label for=\"sk-estimator-id-8\" class=\"sk-toggleable__label sk-toggleable__label-arrow\">remainder</label><div class=\"sk-toggleable__content\"><pre></pre></div></div></div><div class=\"sk-serial\"><div class=\"sk-item\"><div class=\"sk-estimator sk-toggleable\"><input class=\"sk-toggleable__control sk-hidden--visually\" id=\"sk-estimator-id-9\" type=\"checkbox\" ><label for=\"sk-estimator-id-9\" class=\"sk-toggleable__label sk-toggleable__label-arrow\">passthrough</label><div class=\"sk-toggleable__content\"><pre>passthrough</pre></div></div></div></div></div></div></div></div><div class=\"sk-item\"><div class=\"sk-estimator sk-toggleable\"><input class=\"sk-toggleable__control sk-hidden--visually\" id=\"sk-estimator-id-10\" type=\"checkbox\" ><label for=\"sk-estimator-id-10\" class=\"sk-toggleable__label sk-toggleable__label-arrow\">LogisticRegression</label><div class=\"sk-toggleable__content\"><pre>LogisticRegression(random_state=42)</pre></div></div></div></div></div></div></div></div></div></div></div></div>"
      ],
      "text/plain": [
       "GridSearchCV(cv=5,\n",
       "             estimator=Pipeline(steps=[('columntransformer',\n",
       "                                        ColumnTransformer(remainder='passthrough',\n",
       "                                                          transformers=[('minmaxscaler',\n",
       "                                                                         MinMaxScaler(),\n",
       "                                                                         ['acousticness',\n",
       "                                                                          'danceability',\n",
       "                                                                          'duration_ms',\n",
       "                                                                          'energy',\n",
       "                                                                          'instrumentalness',\n",
       "                                                                          'liveness',\n",
       "                                                                          'loudness',\n",
       "                                                                          'speechiness',\n",
       "                                                                          'tempo',\n",
       "                                                                          'obtained_date',\n",
       "                                                                          'valence']),\n",
       "                                                                        ('onehotencoder',\n",
       "                                                                         OneHotEncoder(drop='first'),\n",
       "                                                                         ['key',\n",
       "                                                                          'mode'])])),\n",
       "                                       ('logisticregression',\n",
       "                                        LogisticRegression(random_state=42))]),\n",
       "             param_grid={'logisticregression__max_iter': range(600, 1001, 100),\n",
       "                         'logisticregression__n_jobs': range(1, 4)},\n",
       "             scoring='f1_micro')"
      ]
     },
     "execution_count": 30,
     "metadata": {},
     "output_type": "execute_result"
    }
   ],
   "source": [
    "warnings.filterwarnings('ignore')\n",
    "params = {\n",
    "          'logisticregression__max_iter': range(600,1001,100),\n",
    "          'logisticregression__n_jobs': range(1, 4, 1)\n",
    "         }\n",
    "         \n",
    "\n",
    "grid = GridSearchCV(log, params, cv=5, scoring='f1_micro')\n",
    "grid.fit(x_train, y_train, )"
   ]
  },
  {
   "cell_type": "code",
   "execution_count": 31,
   "id": "c74bf18c-c85e-4951-bf37-392c4256f906",
   "metadata": {},
   "outputs": [
    {
     "name": "stdout",
     "output_type": "stream",
     "text": [
      "0.40408264664949156 {'logisticregression__max_iter': 600, 'logisticregression__n_jobs': 1}\n"
     ]
    }
   ],
   "source": [
    "print(grid.best_score_, grid.best_params_)"
   ]
  },
  {
   "cell_type": "markdown",
   "id": "61b897ba-91d9-4edc-a9ae-22c06d5c0172",
   "metadata": {},
   "source": [
    "При помощи логистической регрессии удалось достичь метрики 0.4 на кроссвалидации."
   ]
  },
  {
   "cell_type": "markdown",
   "id": "d5baa044-33ea-41a6-b199-f1d5d0082e40",
   "metadata": {},
   "source": [
    "Построение модели случайного леса"
   ]
  },
  {
   "cell_type": "code",
   "execution_count": 32,
   "id": "03dfeb56-e762-4731-8ead-940644b34b4d",
   "metadata": {},
   "outputs": [],
   "source": [
    "X = data.drop('music_genre', axis=1)  \n",
    "y = data['music_genre'] "
   ]
  },
  {
   "cell_type": "code",
   "execution_count": 33,
   "id": "bcfcfd39-9c8f-4c29-b149-6c67bd3733b5",
   "metadata": {},
   "outputs": [],
   "source": [
    "num_columns = X.select_dtypes(include='number').columns.tolist()\n",
    "cat_columns = X.select_dtypes(exclude='number').columns.tolist()"
   ]
  },
  {
   "cell_type": "code",
   "execution_count": 34,
   "id": "4a6c53c8-56ef-419a-9a45-07630c2f1026",
   "metadata": {},
   "outputs": [],
   "source": [
    "column_transformer = make_column_transformer((MinMaxScaler(), num_columns),\n",
    "                                             (OneHotEncoder(drop='first'), cat_columns),\n",
    "                                              remainder='passthrough')  \n",
    "model = RandomForestClassifier(criterion = 'gini', random_state = 44)\n",
    "pipeline = make_pipeline(column_transformer, model)\n"
   ]
  },
  {
   "cell_type": "code",
   "execution_count": 35,
   "id": "47e59f58-3e02-4d21-85f9-5392ee859afc",
   "metadata": {},
   "outputs": [],
   "source": [
    "x_train, x_test, y_train, y_test = train_test_split(X, Y, test_size=0.2, random_state = 12345, stratify=Y)"
   ]
  },
  {
   "cell_type": "code",
   "execution_count": 36,
   "id": "6ac3ce45-72ff-4ea2-8281-78e67f12904c",
   "metadata": {},
   "outputs": [
    {
     "data": {
      "text/html": [
       "<style>#sk-container-id-2 {color: black;}#sk-container-id-2 pre{padding: 0;}#sk-container-id-2 div.sk-toggleable {background-color: white;}#sk-container-id-2 label.sk-toggleable__label {cursor: pointer;display: block;width: 100%;margin-bottom: 0;padding: 0.3em;box-sizing: border-box;text-align: center;}#sk-container-id-2 label.sk-toggleable__label-arrow:before {content: \"▸\";float: left;margin-right: 0.25em;color: #696969;}#sk-container-id-2 label.sk-toggleable__label-arrow:hover:before {color: black;}#sk-container-id-2 div.sk-estimator:hover label.sk-toggleable__label-arrow:before {color: black;}#sk-container-id-2 div.sk-toggleable__content {max-height: 0;max-width: 0;overflow: hidden;text-align: left;background-color: #f0f8ff;}#sk-container-id-2 div.sk-toggleable__content pre {margin: 0.2em;color: black;border-radius: 0.25em;background-color: #f0f8ff;}#sk-container-id-2 input.sk-toggleable__control:checked~div.sk-toggleable__content {max-height: 200px;max-width: 100%;overflow: auto;}#sk-container-id-2 input.sk-toggleable__control:checked~label.sk-toggleable__label-arrow:before {content: \"▾\";}#sk-container-id-2 div.sk-estimator input.sk-toggleable__control:checked~label.sk-toggleable__label {background-color: #d4ebff;}#sk-container-id-2 div.sk-label input.sk-toggleable__control:checked~label.sk-toggleable__label {background-color: #d4ebff;}#sk-container-id-2 input.sk-hidden--visually {border: 0;clip: rect(1px 1px 1px 1px);clip: rect(1px, 1px, 1px, 1px);height: 1px;margin: -1px;overflow: hidden;padding: 0;position: absolute;width: 1px;}#sk-container-id-2 div.sk-estimator {font-family: monospace;background-color: #f0f8ff;border: 1px dotted black;border-radius: 0.25em;box-sizing: border-box;margin-bottom: 0.5em;}#sk-container-id-2 div.sk-estimator:hover {background-color: #d4ebff;}#sk-container-id-2 div.sk-parallel-item::after {content: \"\";width: 100%;border-bottom: 1px solid gray;flex-grow: 1;}#sk-container-id-2 div.sk-label:hover label.sk-toggleable__label {background-color: #d4ebff;}#sk-container-id-2 div.sk-serial::before {content: \"\";position: absolute;border-left: 1px solid gray;box-sizing: border-box;top: 0;bottom: 0;left: 50%;z-index: 0;}#sk-container-id-2 div.sk-serial {display: flex;flex-direction: column;align-items: center;background-color: white;padding-right: 0.2em;padding-left: 0.2em;position: relative;}#sk-container-id-2 div.sk-item {position: relative;z-index: 1;}#sk-container-id-2 div.sk-parallel {display: flex;align-items: stretch;justify-content: center;background-color: white;position: relative;}#sk-container-id-2 div.sk-item::before, #sk-container-id-2 div.sk-parallel-item::before {content: \"\";position: absolute;border-left: 1px solid gray;box-sizing: border-box;top: 0;bottom: 0;left: 50%;z-index: -1;}#sk-container-id-2 div.sk-parallel-item {display: flex;flex-direction: column;z-index: 1;position: relative;background-color: white;}#sk-container-id-2 div.sk-parallel-item:first-child::after {align-self: flex-end;width: 50%;}#sk-container-id-2 div.sk-parallel-item:last-child::after {align-self: flex-start;width: 50%;}#sk-container-id-2 div.sk-parallel-item:only-child::after {width: 0;}#sk-container-id-2 div.sk-dashed-wrapped {border: 1px dashed gray;margin: 0 0.4em 0.5em 0.4em;box-sizing: border-box;padding-bottom: 0.4em;background-color: white;}#sk-container-id-2 div.sk-label label {font-family: monospace;font-weight: bold;display: inline-block;line-height: 1.2em;}#sk-container-id-2 div.sk-label-container {text-align: center;}#sk-container-id-2 div.sk-container {/* jupyter's `normalize.less` sets `[hidden] { display: none; }` but bootstrap.min.css set `[hidden] { display: none !important; }` so we also need the `!important` here to be able to override the default hidden behavior on the sphinx rendered scikit-learn.org. See: https://github.com/scikit-learn/scikit-learn/issues/21755 */display: inline-block !important;position: relative;}#sk-container-id-2 div.sk-text-repr-fallback {display: none;}</style><div id=\"sk-container-id-2\" class=\"sk-top-container\"><div class=\"sk-text-repr-fallback\"><pre>GridSearchCV(cv=5,\n",
       "             estimator=Pipeline(steps=[(&#x27;columntransformer&#x27;,\n",
       "                                        ColumnTransformer(remainder=&#x27;passthrough&#x27;,\n",
       "                                                          transformers=[(&#x27;minmaxscaler&#x27;,\n",
       "                                                                         MinMaxScaler(),\n",
       "                                                                         [&#x27;acousticness&#x27;,\n",
       "                                                                          &#x27;danceability&#x27;,\n",
       "                                                                          &#x27;duration_ms&#x27;,\n",
       "                                                                          &#x27;energy&#x27;,\n",
       "                                                                          &#x27;instrumentalness&#x27;,\n",
       "                                                                          &#x27;liveness&#x27;,\n",
       "                                                                          &#x27;loudness&#x27;,\n",
       "                                                                          &#x27;speechiness&#x27;,\n",
       "                                                                          &#x27;tempo&#x27;,\n",
       "                                                                          &#x27;obtained_date&#x27;,\n",
       "                                                                          &#x27;valence&#x27;]),\n",
       "                                                                        (&#x27;onehotencoder&#x27;,\n",
       "                                                                         OneHotEncoder(drop=&#x27;first&#x27;),\n",
       "                                                                         [&#x27;key&#x27;,\n",
       "                                                                          &#x27;mode&#x27;])])),\n",
       "                                       (&#x27;randomforestclassifier&#x27;,\n",
       "                                        RandomForestClassifier(random_state=44))]),\n",
       "             param_grid={&#x27;randomforestclassifier__max_depth&#x27;: range(1, 13, 3),\n",
       "                         &#x27;randomforestclassifier__min_samples_split&#x27;: range(6, 13, 2),\n",
       "                         &#x27;randomforestclassifier__n_estimators&#x27;: range(60, 101, 10)},\n",
       "             scoring=&#x27;f1_micro&#x27;)</pre><b>In a Jupyter environment, please rerun this cell to show the HTML representation or trust the notebook. <br />On GitHub, the HTML representation is unable to render, please try loading this page with nbviewer.org.</b></div><div class=\"sk-container\" hidden><div class=\"sk-item sk-dashed-wrapped\"><div class=\"sk-label-container\"><div class=\"sk-label sk-toggleable\"><input class=\"sk-toggleable__control sk-hidden--visually\" id=\"sk-estimator-id-11\" type=\"checkbox\" ><label for=\"sk-estimator-id-11\" class=\"sk-toggleable__label sk-toggleable__label-arrow\">GridSearchCV</label><div class=\"sk-toggleable__content\"><pre>GridSearchCV(cv=5,\n",
       "             estimator=Pipeline(steps=[(&#x27;columntransformer&#x27;,\n",
       "                                        ColumnTransformer(remainder=&#x27;passthrough&#x27;,\n",
       "                                                          transformers=[(&#x27;minmaxscaler&#x27;,\n",
       "                                                                         MinMaxScaler(),\n",
       "                                                                         [&#x27;acousticness&#x27;,\n",
       "                                                                          &#x27;danceability&#x27;,\n",
       "                                                                          &#x27;duration_ms&#x27;,\n",
       "                                                                          &#x27;energy&#x27;,\n",
       "                                                                          &#x27;instrumentalness&#x27;,\n",
       "                                                                          &#x27;liveness&#x27;,\n",
       "                                                                          &#x27;loudness&#x27;,\n",
       "                                                                          &#x27;speechiness&#x27;,\n",
       "                                                                          &#x27;tempo&#x27;,\n",
       "                                                                          &#x27;obtained_date&#x27;,\n",
       "                                                                          &#x27;valence&#x27;]),\n",
       "                                                                        (&#x27;onehotencoder&#x27;,\n",
       "                                                                         OneHotEncoder(drop=&#x27;first&#x27;),\n",
       "                                                                         [&#x27;key&#x27;,\n",
       "                                                                          &#x27;mode&#x27;])])),\n",
       "                                       (&#x27;randomforestclassifier&#x27;,\n",
       "                                        RandomForestClassifier(random_state=44))]),\n",
       "             param_grid={&#x27;randomforestclassifier__max_depth&#x27;: range(1, 13, 3),\n",
       "                         &#x27;randomforestclassifier__min_samples_split&#x27;: range(6, 13, 2),\n",
       "                         &#x27;randomforestclassifier__n_estimators&#x27;: range(60, 101, 10)},\n",
       "             scoring=&#x27;f1_micro&#x27;)</pre></div></div></div><div class=\"sk-parallel\"><div class=\"sk-parallel-item\"><div class=\"sk-item\"><div class=\"sk-label-container\"><div class=\"sk-label sk-toggleable\"><input class=\"sk-toggleable__control sk-hidden--visually\" id=\"sk-estimator-id-12\" type=\"checkbox\" ><label for=\"sk-estimator-id-12\" class=\"sk-toggleable__label sk-toggleable__label-arrow\">estimator: Pipeline</label><div class=\"sk-toggleable__content\"><pre>Pipeline(steps=[(&#x27;columntransformer&#x27;,\n",
       "                 ColumnTransformer(remainder=&#x27;passthrough&#x27;,\n",
       "                                   transformers=[(&#x27;minmaxscaler&#x27;,\n",
       "                                                  MinMaxScaler(),\n",
       "                                                  [&#x27;acousticness&#x27;,\n",
       "                                                   &#x27;danceability&#x27;,\n",
       "                                                   &#x27;duration_ms&#x27;, &#x27;energy&#x27;,\n",
       "                                                   &#x27;instrumentalness&#x27;,\n",
       "                                                   &#x27;liveness&#x27;, &#x27;loudness&#x27;,\n",
       "                                                   &#x27;speechiness&#x27;, &#x27;tempo&#x27;,\n",
       "                                                   &#x27;obtained_date&#x27;,\n",
       "                                                   &#x27;valence&#x27;]),\n",
       "                                                 (&#x27;onehotencoder&#x27;,\n",
       "                                                  OneHotEncoder(drop=&#x27;first&#x27;),\n",
       "                                                  [&#x27;key&#x27;, &#x27;mode&#x27;])])),\n",
       "                (&#x27;randomforestclassifier&#x27;,\n",
       "                 RandomForestClassifier(random_state=44))])</pre></div></div></div><div class=\"sk-serial\"><div class=\"sk-item\"><div class=\"sk-serial\"><div class=\"sk-item sk-dashed-wrapped\"><div class=\"sk-label-container\"><div class=\"sk-label sk-toggleable\"><input class=\"sk-toggleable__control sk-hidden--visually\" id=\"sk-estimator-id-13\" type=\"checkbox\" ><label for=\"sk-estimator-id-13\" class=\"sk-toggleable__label sk-toggleable__label-arrow\">columntransformer: ColumnTransformer</label><div class=\"sk-toggleable__content\"><pre>ColumnTransformer(remainder=&#x27;passthrough&#x27;,\n",
       "                  transformers=[(&#x27;minmaxscaler&#x27;, MinMaxScaler(),\n",
       "                                 [&#x27;acousticness&#x27;, &#x27;danceability&#x27;, &#x27;duration_ms&#x27;,\n",
       "                                  &#x27;energy&#x27;, &#x27;instrumentalness&#x27;, &#x27;liveness&#x27;,\n",
       "                                  &#x27;loudness&#x27;, &#x27;speechiness&#x27;, &#x27;tempo&#x27;,\n",
       "                                  &#x27;obtained_date&#x27;, &#x27;valence&#x27;]),\n",
       "                                (&#x27;onehotencoder&#x27;, OneHotEncoder(drop=&#x27;first&#x27;),\n",
       "                                 [&#x27;key&#x27;, &#x27;mode&#x27;])])</pre></div></div></div><div class=\"sk-parallel\"><div class=\"sk-parallel-item\"><div class=\"sk-item\"><div class=\"sk-label-container\"><div class=\"sk-label sk-toggleable\"><input class=\"sk-toggleable__control sk-hidden--visually\" id=\"sk-estimator-id-14\" type=\"checkbox\" ><label for=\"sk-estimator-id-14\" class=\"sk-toggleable__label sk-toggleable__label-arrow\">minmaxscaler</label><div class=\"sk-toggleable__content\"><pre>[&#x27;acousticness&#x27;, &#x27;danceability&#x27;, &#x27;duration_ms&#x27;, &#x27;energy&#x27;, &#x27;instrumentalness&#x27;, &#x27;liveness&#x27;, &#x27;loudness&#x27;, &#x27;speechiness&#x27;, &#x27;tempo&#x27;, &#x27;obtained_date&#x27;, &#x27;valence&#x27;]</pre></div></div></div><div class=\"sk-serial\"><div class=\"sk-item\"><div class=\"sk-estimator sk-toggleable\"><input class=\"sk-toggleable__control sk-hidden--visually\" id=\"sk-estimator-id-15\" type=\"checkbox\" ><label for=\"sk-estimator-id-15\" class=\"sk-toggleable__label sk-toggleable__label-arrow\">MinMaxScaler</label><div class=\"sk-toggleable__content\"><pre>MinMaxScaler()</pre></div></div></div></div></div></div><div class=\"sk-parallel-item\"><div class=\"sk-item\"><div class=\"sk-label-container\"><div class=\"sk-label sk-toggleable\"><input class=\"sk-toggleable__control sk-hidden--visually\" id=\"sk-estimator-id-16\" type=\"checkbox\" ><label for=\"sk-estimator-id-16\" class=\"sk-toggleable__label sk-toggleable__label-arrow\">onehotencoder</label><div class=\"sk-toggleable__content\"><pre>[&#x27;key&#x27;, &#x27;mode&#x27;]</pre></div></div></div><div class=\"sk-serial\"><div class=\"sk-item\"><div class=\"sk-estimator sk-toggleable\"><input class=\"sk-toggleable__control sk-hidden--visually\" id=\"sk-estimator-id-17\" type=\"checkbox\" ><label for=\"sk-estimator-id-17\" class=\"sk-toggleable__label sk-toggleable__label-arrow\">OneHotEncoder</label><div class=\"sk-toggleable__content\"><pre>OneHotEncoder(drop=&#x27;first&#x27;)</pre></div></div></div></div></div></div><div class=\"sk-parallel-item\"><div class=\"sk-item\"><div class=\"sk-label-container\"><div class=\"sk-label sk-toggleable\"><input class=\"sk-toggleable__control sk-hidden--visually\" id=\"sk-estimator-id-18\" type=\"checkbox\" ><label for=\"sk-estimator-id-18\" class=\"sk-toggleable__label sk-toggleable__label-arrow\">remainder</label><div class=\"sk-toggleable__content\"><pre></pre></div></div></div><div class=\"sk-serial\"><div class=\"sk-item\"><div class=\"sk-estimator sk-toggleable\"><input class=\"sk-toggleable__control sk-hidden--visually\" id=\"sk-estimator-id-19\" type=\"checkbox\" ><label for=\"sk-estimator-id-19\" class=\"sk-toggleable__label sk-toggleable__label-arrow\">passthrough</label><div class=\"sk-toggleable__content\"><pre>passthrough</pre></div></div></div></div></div></div></div></div><div class=\"sk-item\"><div class=\"sk-estimator sk-toggleable\"><input class=\"sk-toggleable__control sk-hidden--visually\" id=\"sk-estimator-id-20\" type=\"checkbox\" ><label for=\"sk-estimator-id-20\" class=\"sk-toggleable__label sk-toggleable__label-arrow\">RandomForestClassifier</label><div class=\"sk-toggleable__content\"><pre>RandomForestClassifier(random_state=44)</pre></div></div></div></div></div></div></div></div></div></div></div></div>"
      ],
      "text/plain": [
       "GridSearchCV(cv=5,\n",
       "             estimator=Pipeline(steps=[('columntransformer',\n",
       "                                        ColumnTransformer(remainder='passthrough',\n",
       "                                                          transformers=[('minmaxscaler',\n",
       "                                                                         MinMaxScaler(),\n",
       "                                                                         ['acousticness',\n",
       "                                                                          'danceability',\n",
       "                                                                          'duration_ms',\n",
       "                                                                          'energy',\n",
       "                                                                          'instrumentalness',\n",
       "                                                                          'liveness',\n",
       "                                                                          'loudness',\n",
       "                                                                          'speechiness',\n",
       "                                                                          'tempo',\n",
       "                                                                          'obtained_date',\n",
       "                                                                          'valence']),\n",
       "                                                                        ('onehotencoder',\n",
       "                                                                         OneHotEncoder(drop='first'),\n",
       "                                                                         ['key',\n",
       "                                                                          'mode'])])),\n",
       "                                       ('randomforestclassifier',\n",
       "                                        RandomForestClassifier(random_state=44))]),\n",
       "             param_grid={'randomforestclassifier__max_depth': range(1, 13, 3),\n",
       "                         'randomforestclassifier__min_samples_split': range(6, 13, 2),\n",
       "                         'randomforestclassifier__n_estimators': range(60, 101, 10)},\n",
       "             scoring='f1_micro')"
      ]
     },
     "execution_count": 36,
     "metadata": {},
     "output_type": "execute_result"
    }
   ],
   "source": [
    "from sklearn.preprocessing import MinMaxScaler\n",
    "\n",
    "params = {\n",
    "          'randomforestclassifier__n_estimators': range(60,101,10),\n",
    "          'randomforestclassifier__max_depth': range(1, 13, 3),\n",
    "          'randomforestclassifier__min_samples_split': range (6,13,2) \n",
    "         }\n",
    "         \n",
    "\n",
    "grid = GridSearchCV(pipeline, params, cv=5, scoring='f1_micro')\n",
    "grid.fit(x_train, y_train, )"
   ]
  },
  {
   "cell_type": "code",
   "execution_count": 37,
   "id": "15903755-46c6-47f6-839e-1bd7bf977b86",
   "metadata": {},
   "outputs": [
    {
     "name": "stdout",
     "output_type": "stream",
     "text": [
      "0.4654416287571368 {'randomforestclassifier__max_depth': 10, 'randomforestclassifier__min_samples_split': 6, 'randomforestclassifier__n_estimators': 80}\n"
     ]
    }
   ],
   "source": [
    "print(grid.best_score_,grid.best_params_)"
   ]
  },
  {
   "cell_type": "markdown",
   "id": "01613823-f677-4de4-a5e5-64b2d7474832",
   "metadata": {},
   "source": [
    "При помощи модели случайного леса удалось достичь метрики 0.465, что заметно лучше логистической регрессии"
   ]
  },
  {
   "cell_type": "markdown",
   "id": "2699c45d-06a5-4044-a837-7aaa4ff1789e",
   "metadata": {},
   "source": [
    "Создание модели catboost"
   ]
  },
  {
   "cell_type": "code",
   "execution_count": 38,
   "id": "a49646bc-9bbb-4622-abd3-713cb26acd62",
   "metadata": {},
   "outputs": [],
   "source": [
    "X = ['acousticness', 'danceability',\n",
    "       'duration_ms', 'energy', 'instrumentalness', 'key', 'liveness',\n",
    "       'loudness', 'mode', 'speechiness', 'tempo', 'valence', 'obtained_date']\n",
    "\n",
    "cat_features = ['key', 'mode']\n",
    "\n",
    "Y = ['music_genre']"
   ]
  },
  {
   "cell_type": "markdown",
   "id": "91774109-bf1f-4778-bea0-cf7715afa070",
   "metadata": {},
   "source": [
    "Переводим данные в формат Pool"
   ]
  },
  {
   "cell_type": "code",
   "execution_count": 39,
   "id": "02d853d5-3c30-4471-9712-4f4f29868d8e",
   "metadata": {},
   "outputs": [],
   "source": [
    "data_train = Pool(data = data[X],\n",
    "                  label = data[Y],\n",
    "                  cat_features = cat_features)\n",
    "data_test = Pool(data = df_test[X],\n",
    "                  cat_features = cat_features)\n",
    "                                    "
   ]
  },
  {
   "cell_type": "markdown",
   "id": "89fffc42-147d-4311-891a-849a3689fc80",
   "metadata": {},
   "source": [
    "Параметры для кроссвалидации"
   ]
  },
  {
   "cell_type": "code",
   "execution_count": 46,
   "id": "4d6940b7-33ba-4e79-a8ae-7fa7646188cf",
   "metadata": {},
   "outputs": [],
   "source": [
    "params = {'cat_features': cat_features,\n",
    "          'eval_metric': 'TotalF1',\n",
    "          'loss_function': 'MultiClass',\n",
    "          'learning_rate': 0.05,\n",
    "          'iterations' : 1000,\n",
    "          'depth': 7,\n",
    "          'random_seed': 44,\n",
    "          'verbose':100}"
   ]
  },
  {
   "cell_type": "markdown",
   "id": "b39f2883-cb43-4df5-934b-ee33cf025f41",
   "metadata": {},
   "source": [
    "Проводим кроссвалидацию, настраивая гиперпараметры (с помощью изменения learning_rate приближаем модель к 1000 итераций на лучшей метрике)"
   ]
  },
  {
   "cell_type": "code",
   "execution_count": 47,
   "id": "f76b1456-3009-4f8e-b464-d6823aa5985a",
   "metadata": {},
   "outputs": [
    {
     "name": "stdout",
     "output_type": "stream",
     "text": [
      "Training on fold [0/5]\n",
      "\n",
      "bestTest = 0.4519103543\n",
      "bestIteration = 639\n",
      "\n",
      "Training on fold [1/5]\n",
      "\n",
      "bestTest = 0.4654404891\n",
      "bestIteration = 421\n",
      "\n",
      "Training on fold [2/5]\n",
      "\n",
      "bestTest = 0.4635606998\n",
      "bestIteration = 716\n",
      "\n",
      "Training on fold [3/5]\n",
      "\n",
      "bestTest = 0.4590571183\n",
      "bestIteration = 428\n",
      "\n",
      "Training on fold [4/5]\n",
      "\n",
      "bestTest = 0.4483162728\n",
      "bestIteration = 264\n",
      "\n"
     ]
    }
   ],
   "source": [
    "cv_data = cv(\n",
    "    params = params,\n",
    "    pool = data_train,\n",
    "    fold_count = 5,\n",
    "    shuffle = True,\n",
    "    partition_random_seed = 0,\n",
    "    stratified = True,\n",
    "    verbose = False,\n",
    "    early_stopping_rounds = 100)"
   ]
  },
  {
   "cell_type": "code",
   "execution_count": 48,
   "id": "3acb6ff0-0dc2-4fff-917f-025e3e963fc2",
   "metadata": {},
   "outputs": [
    {
     "data": {
      "text/html": [
       "<div>\n",
       "<style scoped>\n",
       "    .dataframe tbody tr th:only-of-type {\n",
       "        vertical-align: middle;\n",
       "    }\n",
       "\n",
       "    .dataframe tbody tr th {\n",
       "        vertical-align: top;\n",
       "    }\n",
       "\n",
       "    .dataframe thead th {\n",
       "        text-align: right;\n",
       "    }\n",
       "</style>\n",
       "<table border=\"1\" class=\"dataframe\">\n",
       "  <thead>\n",
       "    <tr style=\"text-align: right;\">\n",
       "      <th></th>\n",
       "      <th>iterations</th>\n",
       "      <th>test-TotalF1-mean</th>\n",
       "      <th>test-TotalF1-std</th>\n",
       "      <th>train-TotalF1-mean</th>\n",
       "      <th>train-TotalF1-std</th>\n",
       "      <th>test-MultiClass-mean</th>\n",
       "      <th>test-MultiClass-std</th>\n",
       "      <th>train-MultiClass-mean</th>\n",
       "      <th>train-MultiClass-std</th>\n",
       "    </tr>\n",
       "  </thead>\n",
       "  <tbody>\n",
       "    <tr>\n",
       "      <th>716</th>\n",
       "      <td>716</td>\n",
       "      <td>0.455214</td>\n",
       "      <td>0.008561</td>\n",
       "      <td>0.629004</td>\n",
       "      <td>0.047165</td>\n",
       "      <td>1.39847</td>\n",
       "      <td>0.024275</td>\n",
       "      <td>1.05499</td>\n",
       "      <td>0.083115</td>\n",
       "    </tr>\n",
       "  </tbody>\n",
       "</table>\n",
       "</div>"
      ],
      "text/plain": [
       "     iterations  test-TotalF1-mean  test-TotalF1-std  train-TotalF1-mean  \\\n",
       "716         716           0.455214          0.008561            0.629004   \n",
       "\n",
       "     train-TotalF1-std  test-MultiClass-mean  test-MultiClass-std  \\\n",
       "716           0.047165               1.39847             0.024275   \n",
       "\n",
       "     train-MultiClass-mean  train-MultiClass-std  \n",
       "716                1.05499              0.083115  "
      ]
     },
     "execution_count": 48,
     "metadata": {},
     "output_type": "execute_result"
    }
   ],
   "source": [
    "cv_data[cv_data['test-TotalF1-mean'] == cv_data['test-TotalF1-mean'].max()]"
   ]
  },
  {
   "cell_type": "markdown",
   "id": "1794bd7d-d3d3-46ea-b0ad-418c08db7955",
   "metadata": {},
   "source": [
    "лучший результат, который удалось достичь на валидационной выборке при помощи модели catboost = 0.458, что хуже метрики случайного леса."
   ]
  },
  {
   "cell_type": "code",
   "execution_count": 49,
   "id": "48d0693c-ba38-49cc-abc0-95487d44d5b3",
   "metadata": {},
   "outputs": [],
   "source": [
    "model = CatBoostClassifier(iterations = 1000, depth = 5,loss_function='MultiClass', verbose = False)\n",
    "model.fit(data_train)\n",
    "predictions = model.predict(data_test)\n"
   ]
  },
  {
   "cell_type": "code",
   "execution_count": null,
   "id": "6c904f97-7fb6-4da1-9da4-41c6a74ba4a6",
   "metadata": {},
   "outputs": [],
   "source": [
    "predictions = pd.DataFrame(predictions)\n",
    "df_id = pd.DataFrame(df_id)\n",
    "df_id['predictions'] = predictions\n",
    "df_id.columns = ['instance_id', 'music_genre']\n",
    "df_id = pd.DataFrame(df_id)\n",
    "df_id.to_csv('predictions_19', index = False)"
   ]
  },
  {
   "cell_type": "markdown",
   "id": "83c334e5-3fe8-419c-88b5-1daf058b22c7",
   "metadata": {},
   "source": [
    "Итоги проделанной работы: \n",
    "1) проведена предобработка данных (обработаны выбросы в данных, преобразованы типы данных, также проведена анализ мультиколлинеарности признаков)\n",
    "2) Написаны 3 модели: случаный лес, логистическая регрессия, catboost\n",
    "Лучшую метрику на валидационной выборке показал случайный лес, но у модели catboost метрика на тестовых данных значительно выше: 0.505"
   ]
  }
 ],
 "metadata": {
  "kernelspec": {
   "display_name": "Python 3 (ipykernel)",
   "language": "python",
   "name": "python3"
  },
  "language_info": {
   "codemirror_mode": {
    "name": "ipython",
    "version": 3
   },
   "file_extension": ".py",
   "mimetype": "text/x-python",
   "name": "python",
   "nbconvert_exporter": "python",
   "pygments_lexer": "ipython3",
   "version": "3.10.0"
  }
 },
 "nbformat": 4,
 "nbformat_minor": 5
}
